{
 "cells": [
  {
   "cell_type": "markdown",
   "id": "3141f10e-4e90-487d-8c5b-9aed8ae9703f",
   "metadata": {},
   "source": [
    "**Q1.What is multiprocessing in python? Why is it useful?**"
   ]
  },
  {
   "cell_type": "markdown",
   "id": "03682f69-3451-4b12-b704-336e87bb5a8b",
   "metadata": {},
   "source": [
    "It refers to the ability to run multiple processes simultaneously, taking advantage of multiple CPUs or CPU cores on a machine.\n",
    "\n",
    "These are useful in several ways:\n",
    "\n",
    "1. By running multiple processes in parallel, multiprocessing allows for efficient utilization of CPU cores. \n",
    "\n",
    "2. Each process in multiprocessing has its own memory space. \n",
    "\n",
    "3. With multiprocessing, we can fully utilize the available hardware resources on our machine. "
   ]
  },
  {
   "cell_type": "code",
   "execution_count": null,
   "id": "968244d2-e0ad-45ef-843e-8b0ba35d4ebf",
   "metadata": {},
   "outputs": [],
   "source": []
  },
  {
   "cell_type": "markdown",
   "id": "52df599a-88b3-4d4f-bedb-ba6daf5347fd",
   "metadata": {},
   "source": [
    "**Q2. What are the differences between multiprocessing and multithreading?**"
   ]
  },
  {
   "cell_type": "markdown",
   "id": "0537f667-7cce-4b9a-a76b-ea5d203739b7",
   "metadata": {},
   "source": [
    "The differences between multiprocessing and multithreading are as follows:\n",
    "\n",
    "1. In multiprocessing, multiple processes run simultaneously, each with its own memory space and resources, whereas in multithreading, multiple threads within a single process.\n",
    "\n",
    "2. In multiprocessing, each process has its own memory space, which provides a high level of memory isolation. While in multithreading, threads share the same memory space of the process, which allows for direct access to shared data. \n",
    "\n",
    "3. In Multiprocessing, if one process encounters an error or crashes, the other processes can continue running unaffected. whereas in multithreading, a crash or error in one thread can potentially impact the entire process, as all threads share the same memory space."
   ]
  },
  {
   "cell_type": "code",
   "execution_count": null,
   "id": "df43ad5a-26b6-45ae-99b2-efaa24469adb",
   "metadata": {},
   "outputs": [],
   "source": []
  },
  {
   "cell_type": "markdown",
   "id": "91a25f20-3448-43aa-a80e-9af6f6a05dce",
   "metadata": {},
   "source": [
    "**Q3. Write a python code to create a process using the multiprocessing module.**"
   ]
  },
  {
   "cell_type": "code",
   "execution_count": 5,
   "id": "80a5f11c-a572-4e9e-b46e-381d0d27b795",
   "metadata": {},
   "outputs": [
    {
     "name": "stdout",
     "output_type": "stream",
     "text": [
      "[4.0, 7.0, 5.0, 6.0, 5.0990195135927845, 6.855654600401044, 12.0, 3.0, 9.0]\n"
     ]
    }
   ],
   "source": [
    "import multiprocessing\n",
    "import math\n",
    "\n",
    "\n",
    "def sqrt(n):\n",
    "    return math.sqrt(n)\n",
    "\n",
    "if __name__ == \"__main__\":\n",
    "    with multiprocessing.Pool(processes=5) as pool:\n",
    "        out = pool.map(sqrt, [16,49,25,36,26,47,144,9,81])\n",
    "        print(out)"
   ]
  },
  {
   "cell_type": "code",
   "execution_count": null,
   "id": "d8c98139-f1d5-4d74-8233-59dfc574227b",
   "metadata": {},
   "outputs": [],
   "source": []
  },
  {
   "cell_type": "markdown",
   "id": "b2e24231-d92e-40f1-8a40-328054a82daa",
   "metadata": {},
   "source": [
    "**Q4. What is a multiprocessing pool in python? Why is it used?**"
   ]
  },
  {
   "cell_type": "markdown",
   "id": "decc2961-ae84-48d4-ad63-ee0669ce2a0c",
   "metadata": {},
   "source": [
    "It refers to a collection or set of worker processes that can be used to execute tasks in parallel. \n",
    "\n",
    "The multiprocessing pool is used to distribute and manage the workload among a group of worker processes.  It provides a convenient way to parallelize the execution of a function across multiple inputs or a large dataset."
   ]
  },
  {
   "cell_type": "code",
   "execution_count": null,
   "id": "1bc824d7-b784-41ae-88ec-a365909a1eae",
   "metadata": {},
   "outputs": [],
   "source": []
  },
  {
   "cell_type": "markdown",
   "id": "758869ec-8a04-4c7d-bc83-7da5f348da65",
   "metadata": {},
   "source": [
    "**Q5. How can we create a pool of worker processes in python using the multiprocessing module?**"
   ]
  },
  {
   "cell_type": "code",
   "execution_count": 3,
   "id": "73c80d48-3a78-4332-a676-52ef25bd2792",
   "metadata": {},
   "outputs": [
    {
     "name": "stdout",
     "output_type": "stream",
     "text": [
      "[12, 30, 42, 696]\n"
     ]
    }
   ],
   "source": [
    "#Here is an example of creating a pool of worker\n",
    "import multiprocessing\n",
    "\n",
    "\n",
    "def area(rectangle):\n",
    "    l,b = rectangle\n",
    "    return l * b\n",
    "\n",
    "if __name__ == \"__main__\":\n",
    "    with multiprocessing.Pool(processes=5) as pool:\n",
    "        out = pool.map(area, [(3,4),(5,6),(6,7),(87,8)])\n",
    "        print(out)"
   ]
  },
  {
   "cell_type": "code",
   "execution_count": null,
   "id": "4f79e679-f3f8-4e4a-81ae-47df85a4492a",
   "metadata": {},
   "outputs": [],
   "source": []
  },
  {
   "cell_type": "markdown",
   "id": "419e0019-6d93-4e12-bd4f-86b67d73eb48",
   "metadata": {},
   "source": [
    "**Q6. Write a python program to create 4 processes, each process should print a different number using the\n",
    "multiprocessing module in python.**"
   ]
  },
  {
   "cell_type": "code",
   "execution_count": 12,
   "id": "4fde1916-efdf-4d61-be3b-70ce37c5db98",
   "metadata": {},
   "outputs": [
    {
     "name": "stdout",
     "output_type": "stream",
     "text": [
      "0\n",
      "1\n",
      "2\n",
      "3\n"
     ]
    }
   ],
   "source": [
    "import multiprocessing\n",
    "\n",
    "def print_num(number):\n",
    "    print(number)\n",
    "\n",
    "if __name__ == '__main__':\n",
    "    process = []\n",
    "    for i in range(4):\n",
    "        m = multiprocessing.Process(target=print_num, args= (i,))\n",
    "        process.append(m)\n",
    "        m.start()\n",
    "    for m in process:\n",
    "        m.join()"
   ]
  }
 ],
 "metadata": {
  "kernelspec": {
   "display_name": "Python 3 (ipykernel)",
   "language": "python",
   "name": "python3"
  },
  "language_info": {
   "codemirror_mode": {
    "name": "ipython",
    "version": 3
   },
   "file_extension": ".py",
   "mimetype": "text/x-python",
   "name": "python",
   "nbconvert_exporter": "python",
   "pygments_lexer": "ipython3",
   "version": "3.10.8"
  }
 },
 "nbformat": 4,
 "nbformat_minor": 5
}
